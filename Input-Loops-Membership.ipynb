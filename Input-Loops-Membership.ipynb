{
 "cells": [
  {
   "cell_type": "markdown",
   "id": "b0eac55e",
   "metadata": {},
   "source": [
    "# Exercise 4"
   ]
  },
  {
   "cell_type": "markdown",
   "id": "1b7528c4",
   "metadata": {},
   "source": [
    "## Input"
   ]
  },
  {
   "cell_type": "markdown",
   "id": "10c3ae3e",
   "metadata": {},
   "source": [
    "#### get input from user"
   ]
  },
  {
   "cell_type": "code",
   "execution_count": 1,
   "id": "3c44ea56",
   "metadata": {},
   "outputs": [
    {
     "name": "stdout",
     "output_type": "stream",
     "text": [
      "Enter Number : 7\n"
     ]
    }
   ],
   "source": [
    "# code\n",
    "x = int(input(\"Enter Number : \"))"
   ]
  },
  {
   "cell_type": "markdown",
   "id": "6416a6bd",
   "metadata": {},
   "source": [
    "## If-Statement"
   ]
  },
  {
   "cell_type": "markdown",
   "id": "2fe293bb",
   "metadata": {},
   "source": [
    "#### Check the number is positive or negative"
   ]
  },
  {
   "cell_type": "code",
   "execution_count": 2,
   "id": "36b59300",
   "metadata": {},
   "outputs": [
    {
     "name": "stdout",
     "output_type": "stream",
     "text": [
      "positive\n"
     ]
    }
   ],
   "source": [
    "if(x>0):\n",
    "    print(\"positive\")\n",
    "else:\n",
    "    print(\"negative\")"
   ]
  },
  {
   "cell_type": "markdown",
   "id": "44035b25",
   "metadata": {},
   "source": [
    "#### Print even numbers"
   ]
  },
  {
   "cell_type": "code",
   "execution_count": 3,
   "id": "a90396cf",
   "metadata": {},
   "outputs": [
    {
     "name": "stdout",
     "output_type": "stream",
     "text": [
      "2\n",
      "4\n",
      "6\n",
      "8\n",
      "10\n"
     ]
    }
   ],
   "source": [
    "a = [1,2,3,4,5,6,7,8,9,10]\n",
    "for x in range(len(a)):\n",
    "    if a[x]%2==0:\n",
    "        print(a[x])"
   ]
  },
  {
   "cell_type": "markdown",
   "id": "9c05504c",
   "metadata": {},
   "source": [
    "#### Print the numbers that are divisible by 3"
   ]
  },
  {
   "cell_type": "code",
   "execution_count": 4,
   "id": "73341518",
   "metadata": {},
   "outputs": [
    {
     "name": "stdout",
     "output_type": "stream",
     "text": [
      "3\n",
      "6\n",
      "9\n"
     ]
    }
   ],
   "source": [
    "a = [1,2,3,4,5,6,7,8,9,10]\n",
    "for x in range(len(a)):\n",
    "    if a[x]%3==0:\n",
    "        print(a[x])"
   ]
  },
  {
   "cell_type": "markdown",
   "id": "c4942057",
   "metadata": {},
   "source": [
    "#### Print the numbers that are divisible by 5 and even "
   ]
  },
  {
   "cell_type": "code",
   "execution_count": 5,
   "id": "ee1bca66",
   "metadata": {},
   "outputs": [
    {
     "name": "stdout",
     "output_type": "stream",
     "text": [
      "10\n",
      "20\n",
      "30\n",
      "40\n",
      "50\n"
     ]
    }
   ],
   "source": [
    "b = [5,10,15,20,25,30,35,40,45,50]\n",
    "for x in range(len(a)):\n",
    "    if b[x]%5==0 and a[x]%2==0:\n",
    "        print(b[x])"
   ]
  },
  {
   "cell_type": "markdown",
   "id": "4775b7e4",
   "metadata": {},
   "source": [
    "## Membership Operators"
   ]
  },
  {
   "cell_type": "markdown",
   "id": "93d97389",
   "metadata": {},
   "source": [
    "#### Check the word 'five' not found in list"
   ]
  },
  {
   "cell_type": "code",
   "execution_count": 6,
   "id": "c292b782",
   "metadata": {},
   "outputs": [
    {
     "name": "stdout",
     "output_type": "stream",
     "text": [
      "True\n"
     ]
    }
   ],
   "source": [
    "b = [10,15,20,25,30,35,40,45,50]\n",
    "# code\n",
    "print(5 not in b)"
   ]
  },
  {
   "cell_type": "markdown",
   "id": "bcb88eff",
   "metadata": {},
   "source": [
    "#### Check the word \"dog\" in list"
   ]
  },
  {
   "cell_type": "code",
   "execution_count": 7,
   "id": "55a892ac",
   "metadata": {},
   "outputs": [
    {
     "name": "stdout",
     "output_type": "stream",
     "text": [
      "True\n"
     ]
    }
   ],
   "source": [
    "animals = ['cat','donkey','dog']\n",
    "print(\"dog\" in animals)"
   ]
  },
  {
   "cell_type": "markdown",
   "id": "9229aa3b",
   "metadata": {},
   "source": [
    "## Loops"
   ]
  },
  {
   "cell_type": "markdown",
   "id": "90fd363c",
   "metadata": {},
   "source": [
    "#### Display numbers from 1 to 50"
   ]
  },
  {
   "cell_type": "code",
   "execution_count": 8,
   "id": "bf71e7b1",
   "metadata": {},
   "outputs": [
    {
     "name": "stdout",
     "output_type": "stream",
     "text": [
      "1\n",
      "2\n",
      "3\n",
      "4\n",
      "5\n",
      "6\n",
      "7\n",
      "8\n",
      "9\n",
      "10\n",
      "11\n",
      "12\n",
      "13\n",
      "14\n",
      "15\n",
      "16\n",
      "17\n",
      "18\n",
      "19\n",
      "20\n",
      "21\n",
      "22\n",
      "23\n",
      "24\n",
      "25\n",
      "26\n",
      "27\n",
      "28\n",
      "29\n",
      "30\n",
      "31\n",
      "32\n",
      "33\n",
      "34\n",
      "35\n",
      "36\n",
      "37\n",
      "38\n",
      "39\n",
      "40\n",
      "41\n",
      "42\n",
      "43\n",
      "44\n",
      "45\n",
      "46\n",
      "47\n",
      "48\n",
      "49\n",
      "50\n"
     ]
    }
   ],
   "source": [
    "for i in range(1,51):\n",
    "    print(i)"
   ]
  },
  {
   "cell_type": "markdown",
   "id": "aeaa75a4",
   "metadata": {},
   "source": [
    "#### show odd numbers from 1 to 50"
   ]
  },
  {
   "cell_type": "code",
   "execution_count": 9,
   "id": "86f93c5c",
   "metadata": {},
   "outputs": [
    {
     "name": "stdout",
     "output_type": "stream",
     "text": [
      "1\n",
      "3\n",
      "5\n",
      "7\n",
      "9\n",
      "11\n",
      "13\n",
      "15\n",
      "17\n",
      "19\n",
      "21\n",
      "23\n",
      "25\n",
      "27\n",
      "29\n",
      "31\n",
      "33\n",
      "35\n",
      "37\n",
      "39\n",
      "41\n",
      "43\n",
      "45\n",
      "47\n",
      "49\n"
     ]
    }
   ],
   "source": [
    "for i in range(1,51,2):\n",
    "    print(i)"
   ]
  },
  {
   "cell_type": "markdown",
   "id": "834c3bc9",
   "metadata": {},
   "source": [
    "#### print the multiplication table"
   ]
  },
  {
   "cell_type": "code",
   "execution_count": 10,
   "id": "828f9a65",
   "metadata": {},
   "outputs": [
    {
     "name": "stdout",
     "output_type": "stream",
     "text": [
      "-------- Table 1 ----------\n",
      "1 * 1  =  1\n",
      "1 * 2  =  2\n",
      "1 * 3  =  3\n",
      "1 * 4  =  4\n",
      "1 * 5  =  5\n",
      "1 * 6  =  6\n",
      "1 * 7  =  7\n",
      "1 * 8  =  8\n",
      "1 * 9  =  9\n",
      "1 * 10  =  10\n",
      "1 * 11  =  11\n",
      "1 * 12  =  12\n",
      "-------- Table 2 ----------\n",
      "2 * 1  =  2\n",
      "2 * 2  =  4\n",
      "2 * 3  =  6\n",
      "2 * 4  =  8\n",
      "2 * 5  =  10\n",
      "2 * 6  =  12\n",
      "2 * 7  =  14\n",
      "2 * 8  =  16\n",
      "2 * 9  =  18\n",
      "2 * 10  =  20\n",
      "2 * 11  =  22\n",
      "2 * 12  =  24\n",
      "-------- Table 3 ----------\n",
      "3 * 1  =  3\n",
      "3 * 2  =  6\n",
      "3 * 3  =  9\n",
      "3 * 4  =  12\n",
      "3 * 5  =  15\n",
      "3 * 6  =  18\n",
      "3 * 7  =  21\n",
      "3 * 8  =  24\n",
      "3 * 9  =  27\n",
      "3 * 10  =  30\n",
      "3 * 11  =  33\n",
      "3 * 12  =  36\n",
      "-------- Table 4 ----------\n",
      "4 * 1  =  4\n",
      "4 * 2  =  8\n",
      "4 * 3  =  12\n",
      "4 * 4  =  16\n",
      "4 * 5  =  20\n",
      "4 * 6  =  24\n",
      "4 * 7  =  28\n",
      "4 * 8  =  32\n",
      "4 * 9  =  36\n",
      "4 * 10  =  40\n",
      "4 * 11  =  44\n",
      "4 * 12  =  48\n",
      "-------- Table 5 ----------\n",
      "5 * 1  =  5\n",
      "5 * 2  =  10\n",
      "5 * 3  =  15\n",
      "5 * 4  =  20\n",
      "5 * 5  =  25\n",
      "5 * 6  =  30\n",
      "5 * 7  =  35\n",
      "5 * 8  =  40\n",
      "5 * 9  =  45\n",
      "5 * 10  =  50\n",
      "5 * 11  =  55\n",
      "5 * 12  =  60\n",
      "-------- Table 6 ----------\n",
      "6 * 1  =  6\n",
      "6 * 2  =  12\n",
      "6 * 3  =  18\n",
      "6 * 4  =  24\n",
      "6 * 5  =  30\n",
      "6 * 6  =  36\n",
      "6 * 7  =  42\n",
      "6 * 8  =  48\n",
      "6 * 9  =  54\n",
      "6 * 10  =  60\n",
      "6 * 11  =  66\n",
      "6 * 12  =  72\n",
      "-------- Table 7 ----------\n",
      "7 * 1  =  7\n",
      "7 * 2  =  14\n",
      "7 * 3  =  21\n",
      "7 * 4  =  28\n",
      "7 * 5  =  35\n",
      "7 * 6  =  42\n",
      "7 * 7  =  49\n",
      "7 * 8  =  56\n",
      "7 * 9  =  63\n",
      "7 * 10  =  70\n",
      "7 * 11  =  77\n",
      "7 * 12  =  84\n",
      "-------- Table 8 ----------\n",
      "8 * 1  =  8\n",
      "8 * 2  =  16\n",
      "8 * 3  =  24\n",
      "8 * 4  =  32\n",
      "8 * 5  =  40\n",
      "8 * 6  =  48\n",
      "8 * 7  =  56\n",
      "8 * 8  =  64\n",
      "8 * 9  =  72\n",
      "8 * 10  =  80\n",
      "8 * 11  =  88\n",
      "8 * 12  =  96\n",
      "-------- Table 9 ----------\n",
      "9 * 1  =  9\n",
      "9 * 2  =  18\n",
      "9 * 3  =  27\n",
      "9 * 4  =  36\n",
      "9 * 5  =  45\n",
      "9 * 6  =  54\n",
      "9 * 7  =  63\n",
      "9 * 8  =  72\n",
      "9 * 9  =  81\n",
      "9 * 10  =  90\n",
      "9 * 11  =  99\n",
      "9 * 12  =  108\n",
      "-------- Table 10 ----------\n",
      "10 * 1  =  10\n",
      "10 * 2  =  20\n",
      "10 * 3  =  30\n",
      "10 * 4  =  40\n",
      "10 * 5  =  50\n",
      "10 * 6  =  60\n",
      "10 * 7  =  70\n",
      "10 * 8  =  80\n",
      "10 * 9  =  90\n",
      "10 * 10  =  100\n",
      "10 * 11  =  110\n",
      "10 * 12  =  120\n",
      "-------- Table 11 ----------\n",
      "11 * 1  =  11\n",
      "11 * 2  =  22\n",
      "11 * 3  =  33\n",
      "11 * 4  =  44\n",
      "11 * 5  =  55\n",
      "11 * 6  =  66\n",
      "11 * 7  =  77\n",
      "11 * 8  =  88\n",
      "11 * 9  =  99\n",
      "11 * 10  =  110\n",
      "11 * 11  =  121\n",
      "11 * 12  =  132\n",
      "-------- Table 12 ----------\n",
      "12 * 1  =  12\n",
      "12 * 2  =  24\n",
      "12 * 3  =  36\n",
      "12 * 4  =  48\n",
      "12 * 5  =  60\n",
      "12 * 6  =  72\n",
      "12 * 7  =  84\n",
      "12 * 8  =  96\n",
      "12 * 9  =  108\n",
      "12 * 10  =  120\n",
      "12 * 11  =  132\n",
      "12 * 12  =  144\n"
     ]
    }
   ],
   "source": [
    "for x in range(1,13):\n",
    "    print(\"-------- Table \"+str(x)+\" ----------\")\n",
    "    for y in range(1,13):\n",
    "        print(str(x) + \" * \" + str(y) + (\"  =  \") + str(x*y))\n",
    "    "
   ]
  },
  {
   "cell_type": "markdown",
   "id": "7a129173",
   "metadata": {},
   "source": [
    "#### Display All numbers in the list Expect 8"
   ]
  },
  {
   "cell_type": "code",
   "execution_count": 11,
   "id": "4d5f5ce8",
   "metadata": {},
   "outputs": [
    {
     "name": "stdout",
     "output_type": "stream",
     "text": [
      "1\n",
      "2\n",
      "3\n",
      "4\n",
      "5\n",
      "6\n",
      "7\n",
      "9\n",
      "10\n"
     ]
    }
   ],
   "source": [
    "x = [1, 2, 3, 4, 5, 6, 7, 8, 9, 10]\n",
    "for i in x:\n",
    "    if(i==8):\n",
    "        continue\n",
    "    print(i)"
   ]
  },
  {
   "cell_type": "markdown",
   "id": "f1501047",
   "metadata": {},
   "source": [
    "#### show All numbers in the list up to 7"
   ]
  },
  {
   "cell_type": "code",
   "execution_count": 12,
   "id": "606396a6",
   "metadata": {},
   "outputs": [
    {
     "name": "stdout",
     "output_type": "stream",
     "text": [
      "1\n",
      "2\n",
      "3\n",
      "4\n",
      "5\n",
      "6\n",
      "7\n"
     ]
    }
   ],
   "source": [
    "x = [1, 2, 3, 4, 5, 6, 7, 8, 9, 10]\n",
    "for i in x:\n",
    "    if(i==8):\n",
    "        break\n",
    "    print(i)"
   ]
  },
  {
   "cell_type": "code",
   "execution_count": null,
   "id": "b500ef36",
   "metadata": {},
   "outputs": [],
   "source": []
  }
 ],
 "metadata": {
  "kernelspec": {
   "display_name": "Python 3 (ipykernel)",
   "language": "python",
   "name": "python3"
  },
  "language_info": {
   "codemirror_mode": {
    "name": "ipython",
    "version": 3
   },
   "file_extension": ".py",
   "mimetype": "text/x-python",
   "name": "python",
   "nbconvert_exporter": "python",
   "pygments_lexer": "ipython3",
   "version": "3.9.13"
  }
 },
 "nbformat": 4,
 "nbformat_minor": 5
}
