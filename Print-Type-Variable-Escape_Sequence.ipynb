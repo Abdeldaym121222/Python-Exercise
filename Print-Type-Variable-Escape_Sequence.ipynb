{
 "cells": [
  {
   "cell_type": "markdown",
   "id": "d98beda9",
   "metadata": {},
   "source": [
    "# EXercise 1"
   ]
  },
  {
   "cell_type": "markdown",
   "id": "7cb3e34e",
   "metadata": {},
   "source": [
    "## Print - Type"
   ]
  },
  {
   "cell_type": "markdown",
   "id": "3f17fd94",
   "metadata": {},
   "source": [
    "#### Show \"Hello world\" on the Screen in the same line"
   ]
  },
  {
   "cell_type": "code",
   "execution_count": 1,
   "id": "c798d04a",
   "metadata": {},
   "outputs": [
    {
     "name": "stdout",
     "output_type": "stream",
     "text": [
      "hello world\n"
     ]
    }
   ],
   "source": [
    "print(\"hello world\")"
   ]
  },
  {
   "cell_type": "markdown",
   "id": "500b49ed",
   "metadata": {},
   "source": [
    "#### Separate  between these words with a '#' welcome , to , Python"
   ]
  },
  {
   "cell_type": "code",
   "execution_count": 2,
   "id": "8559ede0",
   "metadata": {},
   "outputs": [
    {
     "name": "stdout",
     "output_type": "stream",
     "text": [
      "welcome#to#Python\n"
     ]
    }
   ],
   "source": [
    "print(\"welcome\",\"to\",\"Python\" , sep='#')"
   ]
  },
  {
   "cell_type": "markdown",
   "id": "753011de",
   "metadata": {},
   "source": [
    "#### Ignore New Line After Print"
   ]
  },
  {
   "cell_type": "code",
   "execution_count": 3,
   "id": "fa2704f9",
   "metadata": {},
   "outputs": [
    {
     "name": "stdout",
     "output_type": "stream",
     "text": [
      "hello python\n"
     ]
    }
   ],
   "source": [
    "# correct the code\n",
    "print(\"hello \" , end=\"\")\n",
    "print(\"python\")"
   ]
  },
  {
   "cell_type": "markdown",
   "id": "105b072c",
   "metadata": {},
   "source": [
    "#### Make a Comment Sentence"
   ]
  },
  {
   "cell_type": "code",
   "execution_count": 4,
   "id": "c54c8fd5",
   "metadata": {},
   "outputs": [],
   "source": [
    "# welcome to python"
   ]
  },
  {
   "cell_type": "markdown",
   "id": "3e79fc39",
   "metadata": {},
   "source": [
    "#### Display the Data Types that Store the Following Values \"Ahmed\"  , 19.0  , -70 ,7>5"
   ]
  },
  {
   "cell_type": "code",
   "execution_count": 5,
   "id": "f5f45fc8",
   "metadata": {},
   "outputs": [
    {
     "name": "stdout",
     "output_type": "stream",
     "text": [
      "<class 'str'>\n",
      "<class 'float'>\n",
      "<class 'int'>\n",
      "<class 'bool'>\n"
     ]
    }
   ],
   "source": [
    "print(type(\"Ahmed\"))\n",
    "print(type(19.0))\n",
    "print(type(-70))\n",
    "print(type(7>5))"
   ]
  },
  {
   "cell_type": "markdown",
   "id": "fd086597",
   "metadata": {},
   "source": [
    "# Variables"
   ]
  },
  {
   "cell_type": "code",
   "execution_count": 6,
   "id": "e071f475",
   "metadata": {},
   "outputs": [
    {
     "name": "stdout",
     "output_type": "stream",
     "text": [
      "5\n"
     ]
    }
   ],
   "source": [
    "# Correct the error\n",
    "x = 5; # int x =5\n",
    "print(x)"
   ]
  },
  {
   "cell_type": "markdown",
   "id": "cff3c749",
   "metadata": {},
   "source": [
    "#### Show Reserved Words"
   ]
  },
  {
   "cell_type": "code",
   "execution_count": 7,
   "id": "b03ab341",
   "metadata": {},
   "outputs": [
    {
     "name": "stdout",
     "output_type": "stream",
     "text": [
      "\n",
      "Here is a list of the Python keywords.  Enter any keyword to get more help.\n",
      "\n",
      "False               break               for                 not\n",
      "None                class               from                or\n",
      "True                continue            global              pass\n",
      "__peg_parser__      def                 if                  raise\n",
      "and                 del                 import              return\n",
      "as                  elif                in                  try\n",
      "assert              else                is                  while\n",
      "async               except              lambda              with\n",
      "await               finally             nonlocal            yield\n",
      "\n"
     ]
    }
   ],
   "source": [
    "help(\"keywords\")"
   ]
  },
  {
   "cell_type": "markdown",
   "id": "44b82a7a",
   "metadata": {},
   "source": [
    "#### Assignment multiple variables"
   ]
  },
  {
   "cell_type": "code",
   "execution_count": 8,
   "id": "eb0ed2b7",
   "metadata": {},
   "outputs": [],
   "source": [
    "x,y = 5,6"
   ]
  },
  {
   "cell_type": "markdown",
   "id": "8b69faec",
   "metadata": {},
   "source": [
    "#### swap two variable"
   ]
  },
  {
   "cell_type": "code",
   "execution_count": 9,
   "id": "856c5772",
   "metadata": {},
   "outputs": [
    {
     "name": "stdout",
     "output_type": "stream",
     "text": [
      "6\n",
      "5\n"
     ]
    }
   ],
   "source": [
    "x=5\n",
    "y=6\n",
    "x,y = y,x\n",
    "print(x)\n",
    "print(y)"
   ]
  },
  {
   "cell_type": "markdown",
   "id": "a7ae5562",
   "metadata": {},
   "source": [
    "# Escape Sequence"
   ]
  },
  {
   "cell_type": "markdown",
   "id": "f5fb4af2",
   "metadata": {},
   "source": [
    "#### Escape New Line "
   ]
  },
  {
   "cell_type": "code",
   "execution_count": 10,
   "id": "06cb8c82",
   "metadata": {},
   "outputs": [
    {
     "name": "stdout",
     "output_type": "stream",
     "text": [
      "Hello I Love Python\n"
     ]
    }
   ],
   "source": [
    "print(\"Hello \\\n",
    "I Love \\\n",
    "Python\")"
   ]
  },
  {
   "cell_type": "markdown",
   "id": "8ac9e1fe",
   "metadata": {},
   "source": [
    "#### Escape Back Slash"
   ]
  },
  {
   "cell_type": "code",
   "execution_count": 11,
   "id": "cbb1bdf6",
   "metadata": {},
   "outputs": [
    {
     "name": "stdout",
     "output_type": "stream",
     "text": [
      "I Love \\ Back Slash \\\n"
     ]
    }
   ],
   "source": [
    "print(\"I Love \\ Back Slash \\\\\")"
   ]
  },
  {
   "cell_type": "markdown",
   "id": "8d01efc2",
   "metadata": {},
   "source": [
    "#### Escape Single Quote"
   ]
  },
  {
   "cell_type": "code",
   "execution_count": 12,
   "id": "afc9002b",
   "metadata": {},
   "outputs": [
    {
     "name": "stdout",
     "output_type": "stream",
     "text": [
      "I Love Single Quote 'Test' \n"
     ]
    }
   ],
   "source": [
    "print(\"I Love Single Quote 'Test' \")"
   ]
  },
  {
   "cell_type": "markdown",
   "id": "55c2d850",
   "metadata": {},
   "source": [
    "#### Escape Double Quotes"
   ]
  },
  {
   "cell_type": "code",
   "execution_count": 13,
   "id": "bff6a980",
   "metadata": {},
   "outputs": [
    {
     "name": "stdout",
     "output_type": "stream",
     "text": [
      "I Love Single Quote \"Test\" \n"
     ]
    }
   ],
   "source": [
    "print(\"I Love Single Quote \\\"Test\\\" \")"
   ]
  },
  {
   "cell_type": "markdown",
   "id": "d7ac8e53",
   "metadata": {},
   "source": [
    "#### Escape Single & Double Quotes"
   ]
  },
  {
   "cell_type": "code",
   "execution_count": 14,
   "id": "f9b0d1c8",
   "metadata": {},
   "outputs": [
    {
     "name": "stdout",
     "output_type": "stream",
     "text": [
      "First Second 'Test' \"Test\" Third\n"
     ]
    }
   ],
   "source": [
    "print(\"\"\"First Second 'Test' \"Test\" Third\"\"\")"
   ]
  },
  {
   "cell_type": "markdown",
   "id": "cbe5953a",
   "metadata": {},
   "source": [
    "#### Line Feed\n"
   ]
  },
  {
   "cell_type": "code",
   "execution_count": 15,
   "id": "79a782c8",
   "metadata": {},
   "outputs": [
    {
     "name": "stdout",
     "output_type": "stream",
     "text": [
      "First Line \n",
      "Second Line\n"
     ]
    }
   ],
   "source": [
    "print(\"First Line \\n\\\n",
    "Second Line\")"
   ]
  },
  {
   "cell_type": "markdown",
   "id": "c9a224d2",
   "metadata": {},
   "source": [
    "#### Carriage Return\n"
   ]
  },
  {
   "cell_type": "code",
   "execution_count": 16,
   "id": "a39e660e",
   "metadata": {},
   "outputs": [
    {
     "name": "stdout",
     "output_type": "stream",
     "text": [
      "123456\r",
      " Abcd\n"
     ]
    }
   ],
   "source": [
    "print(\"123456\\r Abcd\")"
   ]
  },
  {
   "cell_type": "markdown",
   "id": "3806c297",
   "metadata": {},
   "source": [
    "\n",
    "#### Horizontal Tab\n"
   ]
  },
  {
   "cell_type": "code",
   "execution_count": 17,
   "id": "ba35a1fc",
   "metadata": {},
   "outputs": [
    {
     "name": "stdout",
     "output_type": "stream",
     "text": [
      "Hello\t Python\n"
     ]
    }
   ],
   "source": [
    "print(\"Hello\\t Python\")"
   ]
  },
  {
   "cell_type": "code",
   "execution_count": null,
   "id": "40e44e34",
   "metadata": {},
   "outputs": [],
   "source": []
  }
 ],
 "metadata": {
  "kernelspec": {
   "display_name": "Python 3 (ipykernel)",
   "language": "python",
   "name": "python3"
  },
  "language_info": {
   "codemirror_mode": {
    "name": "ipython",
    "version": 3
   },
   "file_extension": ".py",
   "mimetype": "text/x-python",
   "name": "python",
   "nbconvert_exporter": "python",
   "pygments_lexer": "ipython3",
   "version": "3.9.13"
  }
 },
 "nbformat": 4,
 "nbformat_minor": 5
}
