{
 "cells": [
  {
   "cell_type": "markdown",
   "id": "1c0e6f56",
   "metadata": {},
   "source": [
    "# Exercise 3"
   ]
  },
  {
   "cell_type": "markdown",
   "id": "ce7064ac",
   "metadata": {},
   "source": [
    "## Lists"
   ]
  },
  {
   "cell_type": "markdown",
   "id": "92d6d528",
   "metadata": {},
   "source": [
    "#### Add \"four\" in the List"
   ]
  },
  {
   "cell_type": "code",
   "execution_count": 1,
   "id": "49110612",
   "metadata": {},
   "outputs": [
    {
     "data": {
      "text/plain": [
       "['one', 'two', 'three', 'four']"
      ]
     },
     "execution_count": 1,
     "metadata": {},
     "output_type": "execute_result"
    }
   ],
   "source": [
    "list1 = [\"one\",\"two\",\"three\"]\n",
    "# code\n",
    "list1.append(\"four\")\n",
    "list1"
   ]
  },
  {
   "cell_type": "markdown",
   "id": "519752a7",
   "metadata": {},
   "source": [
    "#### Extend list a by b"
   ]
  },
  {
   "cell_type": "code",
   "execution_count": 2,
   "id": "6ad812be",
   "metadata": {},
   "outputs": [
    {
     "name": "stdout",
     "output_type": "stream",
     "text": [
      "[1, 2, 3, 4, 'A', 'B', 'C']\n"
     ]
    }
   ],
   "source": [
    "a = [1, 2, 3, 4]\n",
    "b = [\"A\", \"B\", \"C\"]\n",
    "# code\n",
    "a.extend(b)\n",
    "print(a)"
   ]
  },
  {
   "cell_type": "markdown",
   "id": "a53ede46",
   "metadata": {},
   "source": [
    "#### Enter \"B\" at the beginning of the list\n",
    "output : [\"B\",1, 2, 3, 4, 5, \"A\"]"
   ]
  },
  {
   "cell_type": "code",
   "execution_count": 3,
   "id": "2439ffe8",
   "metadata": {},
   "outputs": [
    {
     "data": {
      "text/plain": [
       "['B', 1, 2, 3, 4, 5, 'A']"
      ]
     },
     "execution_count": 3,
     "metadata": {},
     "output_type": "execute_result"
    }
   ],
   "source": [
    "f = [1, 2, 3, 4, 5, \"A\"]\n",
    "# code\n",
    "f.insert(0,\"B\")\n",
    "f"
   ]
  },
  {
   "cell_type": "markdown",
   "id": "8c1e622f",
   "metadata": {},
   "source": [
    "#### reverse your List"
   ]
  },
  {
   "cell_type": "code",
   "execution_count": 4,
   "id": "f7aeb086",
   "metadata": {},
   "outputs": [
    {
     "data": {
      "text/plain": [
       "[100, 'A', 100, 80, 9, 1, 10]"
      ]
     },
     "execution_count": 4,
     "metadata": {},
     "output_type": "execute_result"
    }
   ],
   "source": [
    "z = [10, 1, 9, 80, 100, \"A\", 100]\n",
    "z.reverse()\n",
    "z"
   ]
  },
  {
   "cell_type": "markdown",
   "id": "31f3d2e1",
   "metadata": {},
   "source": [
    "## Sets"
   ]
  },
  {
   "cell_type": "markdown",
   "id": "dc0dc541",
   "metadata": {},
   "source": [
    "#### Correct the Error"
   ]
  },
  {
   "cell_type": "code",
   "execution_count": 5,
   "id": "b0a27f06",
   "metadata": {},
   "outputs": [
    {
     "name": "stdout",
     "output_type": "stream",
     "text": [
      "{1, 2, 3, 4, 5, 6}\n"
     ]
    }
   ],
   "source": [
    "set1 = {1, 2, 3, 4, 5, 6}\n",
    "print(set1)"
   ]
  },
  {
   "cell_type": "markdown",
   "id": "1616def3",
   "metadata": {},
   "source": [
    "#### Add \"A\" in the set"
   ]
  },
  {
   "cell_type": "code",
   "execution_count": 6,
   "id": "bdba2d5b",
   "metadata": {},
   "outputs": [
    {
     "data": {
      "text/plain": [
       "{1, 2, 3, 4, 'A'}"
      ]
     },
     "execution_count": 6,
     "metadata": {},
     "output_type": "execute_result"
    }
   ],
   "source": [
    "h = {1, 2, 3, 4}\n",
    "# code\n",
    "h.add(\"A\")\n",
    "h"
   ]
  },
  {
   "cell_type": "markdown",
   "id": "2dab7971",
   "metadata": {},
   "source": [
    "## Dictionary"
   ]
  },
  {
   "cell_type": "markdown",
   "id": "7f68e427",
   "metadata": {},
   "source": [
    "#### create one-Dimensional Dictionary"
   ]
  },
  {
   "cell_type": "code",
   "execution_count": 7,
   "id": "4b79e524",
   "metadata": {},
   "outputs": [
    {
     "data": {
      "text/plain": [
       "{'name': 'mohamed', 'age': 35}"
      ]
     },
     "execution_count": 7,
     "metadata": {},
     "output_type": "execute_result"
    }
   ],
   "source": [
    "dic = {\"name\":\"mohamed\",\n",
    "      \"age\":35}\n",
    "dic"
   ]
  },
  {
   "cell_type": "markdown",
   "id": "2487d9db",
   "metadata": {},
   "source": [
    "#### create Two-Dimensional Dictionary"
   ]
  },
  {
   "cell_type": "code",
   "execution_count": 8,
   "id": "817bee14",
   "metadata": {},
   "outputs": [
    {
     "data": {
      "text/plain": [
       "{'one': {'name': 'mohamed', 'age': 35}, 'two': {'name': 'khaled', 'age': 19}}"
      ]
     },
     "execution_count": 8,
     "metadata": {},
     "output_type": "execute_result"
    }
   ],
   "source": [
    "dic = {\"one\":{\"name\":\"mohamed\",\n",
    "              \"age\":35},\n",
    "       \n",
    "       \"two\":{\"name\":\"khaled\",\n",
    "              \"age\":19}}\n",
    "\n",
    "dic"
   ]
  },
  {
   "cell_type": "markdown",
   "id": "09e51b8f",
   "metadata": {},
   "source": [
    "#### print keys and values for Dictionary"
   ]
  },
  {
   "cell_type": "code",
   "execution_count": 9,
   "id": "c02d933a",
   "metadata": {},
   "outputs": [
    {
     "name": "stdout",
     "output_type": "stream",
     "text": [
      "dict_keys(['name', 'age', 'country'])\n",
      "dict_values(['ahmed', 36, 'Egypt'])\n"
     ]
    }
   ],
   "source": [
    "user = {\n",
    "  \"name\": \"ahmed\",\n",
    "  \"age\": 36,\n",
    "  \"country\": \"Egypt\"\n",
    "}\n",
    "\n",
    "print(user.keys())\n",
    "print(user.values())"
   ]
  },
  {
   "cell_type": "code",
   "execution_count": null,
   "id": "f841ca34",
   "metadata": {},
   "outputs": [],
   "source": []
  }
 ],
 "metadata": {
  "kernelspec": {
   "display_name": "Python 3 (ipykernel)",
   "language": "python",
   "name": "python3"
  },
  "language_info": {
   "codemirror_mode": {
    "name": "ipython",
    "version": 3
   },
   "file_extension": ".py",
   "mimetype": "text/x-python",
   "name": "python",
   "nbconvert_exporter": "python",
   "pygments_lexer": "ipython3",
   "version": "3.9.13"
  }
 },
 "nbformat": 4,
 "nbformat_minor": 5
}
