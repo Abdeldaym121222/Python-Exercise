{
 "cells": [
  {
   "cell_type": "markdown",
   "id": "5c3df2c0",
   "metadata": {},
   "source": [
    "# Exercise 5"
   ]
  },
  {
   "cell_type": "markdown",
   "id": "78d323fd",
   "metadata": {},
   "source": [
    "## Function And Return"
   ]
  },
  {
   "cell_type": "markdown",
   "id": "6502d5f1",
   "metadata": {},
   "source": [
    "#### Method sum two Numbers"
   ]
  },
  {
   "cell_type": "code",
   "execution_count": 1,
   "id": "50d4bb28",
   "metadata": {},
   "outputs": [
    {
     "name": "stdout",
     "output_type": "stream",
     "text": [
      "7\n"
     ]
    }
   ],
   "source": [
    "def sum1(x,y):\n",
    "    return x+y\n",
    "\n",
    "x,y = 3,4\n",
    "print(sum1(x,y))"
   ]
  },
  {
   "cell_type": "markdown",
   "id": "9fc21676",
   "metadata": {},
   "source": [
    "#### create method Calculates the area of the triangle."
   ]
  },
  {
   "cell_type": "code",
   "execution_count": 2,
   "id": "d55251b7",
   "metadata": {},
   "outputs": [
    {
     "name": "stdout",
     "output_type": "stream",
     "text": [
      "20.0\n"
     ]
    }
   ],
   "source": [
    "def area_Of_Triangle(base , height):\n",
    "    area = 0.5*base*height;\n",
    "    return area\n",
    "    \n",
    "print(area_Of_Triangle(5,8))"
   ]
  },
  {
   "cell_type": "markdown",
   "id": "1bf80b7d",
   "metadata": {},
   "source": [
    "#### Takes five number input from the user and determines their Average ."
   ]
  },
  {
   "cell_type": "code",
   "execution_count": 3,
   "id": "a498ba5c",
   "metadata": {},
   "outputs": [
    {
     "name": "stdout",
     "output_type": "stream",
     "text": [
      "enter number 1 : 4\n",
      "enter number 2 : 5\n",
      "enter number 3 : 4\n",
      "enter number 4 : 3\n",
      "enter number 5 : 9\n",
      "average = 5.0\n"
     ]
    }
   ],
   "source": [
    "sum = 0\n",
    "for i in range(5):\n",
    "    sum += int(input(\"enter number \"+str(i+1)+\" : \"))\n",
    "    \n",
    "avg = sum/5\n",
    "print(\"average = \"+str(avg))"
   ]
  },
  {
   "cell_type": "markdown",
   "id": "e0ca359d",
   "metadata": {},
   "source": [
    "#### Read 3 numbers from user and print the maximum"
   ]
  },
  {
   "cell_type": "code",
   "execution_count": 4,
   "id": "9b0045c2",
   "metadata": {},
   "outputs": [
    {
     "name": "stdout",
     "output_type": "stream",
     "text": [
      "Enter number 1 : 5\n",
      "Enter number 1 : 7\n",
      "Enter number 1 : 9\n",
      "max = 9\n"
     ]
    }
   ],
   "source": [
    "x1 = int(input(\"Enter number 1 : \"))\n",
    "x2 = int(input(\"Enter number 1 : \"))\n",
    "x3 = int(input(\"Enter number 1 : \"))\n",
    "\n",
    "if x1>=x2 and x1>=x3:\n",
    "    print(\"max = \"+str(x1))\n",
    "elif x2>x1 and x2>=x3:\n",
    "    print(\"max = \"+str(x2))\n",
    "else:\n",
    "    print(\"max = \"+str(x3))"
   ]
  },
  {
   "cell_type": "markdown",
   "id": "baf5285c",
   "metadata": {},
   "source": [
    "#### Read from user number and print if it divisible by 3 or not."
   ]
  },
  {
   "cell_type": "code",
   "execution_count": 5,
   "id": "89096c3b",
   "metadata": {},
   "outputs": [
    {
     "name": "stdout",
     "output_type": "stream",
     "text": [
      "Enter number : 9\n",
      "yes\n"
     ]
    }
   ],
   "source": [
    "x = int(input(\"Enter number : \"))\n",
    "\n",
    "if x%3==0:\n",
    "    print(\"yes\")\n",
    "else:\n",
    "    print(\"no\")"
   ]
  },
  {
   "cell_type": "markdown",
   "id": "b397ea5c",
   "metadata": {},
   "source": [
    "#### Write a program in python that reads three scores of a student in three tests to compute and display the sum of the best-two scores."
   ]
  },
  {
   "cell_type": "code",
   "execution_count": 6,
   "id": "150a3cd0",
   "metadata": {},
   "outputs": [
    {
     "name": "stdout",
     "output_type": "stream",
     "text": [
      "Enter Score 1 : 10\n",
      "Enter score 2 : 25\n",
      "Enter score 3 : 15\n",
      "40\n"
     ]
    }
   ],
   "source": [
    "x1 = int(input(\"Enter Score 1 : \"))\n",
    "x2 = int(input(\"Enter score 2 : \"))\n",
    "x3 = int(input(\"Enter score 3 : \"))\n",
    "\n",
    "sum_of_score = x1+x2+x3\n",
    "\n",
    "if(x1<x2 and x1<x3):\n",
    "    print(sum_of_score - x1)\n",
    "elif(x2<x1 and x2<x3):\n",
    "    print(sum_of_score - x2)\n",
    "else:\n",
    "    print(sum_of_score - x3)\n"
   ]
  },
  {
   "cell_type": "code",
   "execution_count": null,
   "id": "8c809a77",
   "metadata": {},
   "outputs": [],
   "source": []
  }
 ],
 "metadata": {
  "kernelspec": {
   "display_name": "Python 3 (ipykernel)",
   "language": "python",
   "name": "python3"
  },
  "language_info": {
   "codemirror_mode": {
    "name": "ipython",
    "version": 3
   },
   "file_extension": ".py",
   "mimetype": "text/x-python",
   "name": "python",
   "nbconvert_exporter": "python",
   "pygments_lexer": "ipython3",
   "version": "3.9.13"
  }
 },
 "nbformat": 4,
 "nbformat_minor": 5
}
