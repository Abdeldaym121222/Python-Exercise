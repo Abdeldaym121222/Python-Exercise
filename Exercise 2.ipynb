{
 "cells": [
  {
   "cell_type": "markdown",
   "id": "97fb04a7",
   "metadata": {},
   "source": [
    "# Exercise 2"
   ]
  },
  {
   "cell_type": "markdown",
   "id": "6db078db",
   "metadata": {},
   "source": [
    "## String"
   ]
  },
  {
   "cell_type": "markdown",
   "id": "4439ef50",
   "metadata": {},
   "source": [
    "#### Correct the error"
   ]
  },
  {
   "cell_type": "code",
   "execution_count": 1,
   "id": "c8f8d450",
   "metadata": {},
   "outputs": [
    {
     "name": "stdout",
     "output_type": "stream",
     "text": [
      "Hello 20\n"
     ]
    }
   ],
   "source": [
    "print(\"Hello \" + str(20))"
   ]
  },
  {
   "cell_type": "markdown",
   "id": "d6549cfb",
   "metadata": {},
   "source": [
    "#### Indexing "
   ]
  },
  {
   "cell_type": "code",
   "execution_count": 2,
   "id": "31060411",
   "metadata": {},
   "outputs": [
    {
     "name": "stdout",
     "output_type": "stream",
     "text": [
      "m\n",
      "n\n"
     ]
    }
   ],
   "source": [
    "myString = \"welcome to Python\"  \n",
    "\n",
    "#output = m\n",
    "\n",
    "print(myString[5])\n",
    "    \n",
    "#output = n\n",
    "\n",
    "print(myString[-1])"
   ]
  },
  {
   "cell_type": "markdown",
   "id": "9ad7ec2e",
   "metadata": {},
   "source": [
    "#### Slicing \n",
    "note : [Start:End:Steps]"
   ]
  },
  {
   "cell_type": "code",
   "execution_count": 3,
   "id": "c2d5f75a",
   "metadata": {},
   "outputs": [
    {
     "name": "stdout",
     "output_type": "stream",
     "text": [
      "to\n",
      "Python\n"
     ]
    }
   ],
   "source": [
    "myString = \"welcome to Python\"  \n",
    "\n",
    "#output = to\n",
    "\n",
    "print(myString[8:10])\n",
    "    \n",
    "#output = Python\n",
    "\n",
    "print(myString[11:])"
   ]
  },
  {
   "cell_type": "markdown",
   "id": "b29233bd",
   "metadata": {},
   "source": [
    "#### Print odd Characters"
   ]
  },
  {
   "cell_type": "code",
   "execution_count": 4,
   "id": "92dd35eb",
   "metadata": {},
   "outputs": [
    {
     "name": "stdout",
     "output_type": "stream",
     "text": [
      "wloet yhn\n"
     ]
    }
   ],
   "source": [
    "myString = \"welcome to Python\" \n",
    "print(myString[::2])"
   ]
  },
  {
   "cell_type": "markdown",
   "id": "4e49e937",
   "metadata": {},
   "source": [
    "#### convert upper String to Lower"
   ]
  },
  {
   "cell_type": "code",
   "execution_count": 5,
   "id": "e684c967",
   "metadata": {},
   "outputs": [
    {
     "name": "stdout",
     "output_type": "stream",
     "text": [
      "welcome to python\n"
     ]
    }
   ],
   "source": [
    "myString = \"WELCOME TO PYTHON\" \n",
    "print(myString.lower())"
   ]
  },
  {
   "cell_type": "markdown",
   "id": "7f7f6686",
   "metadata": {},
   "source": [
    "#### convert Lower String to Upper"
   ]
  },
  {
   "cell_type": "code",
   "execution_count": 6,
   "id": "5d092f3d",
   "metadata": {},
   "outputs": [
    {
     "name": "stdout",
     "output_type": "stream",
     "text": [
      "WELCOME TO PYTHON\n"
     ]
    }
   ],
   "source": [
    "myString = \"welcome to Python\" \n",
    "print(myString.upper())"
   ]
  },
  {
   "cell_type": "markdown",
   "id": "ed7145bc",
   "metadata": {},
   "source": [
    "#### replace(Old Value, New Value, Count)"
   ]
  },
  {
   "cell_type": "code",
   "execution_count": 7,
   "id": "8578678a",
   "metadata": {},
   "outputs": [
    {
     "name": "stdout",
     "output_type": "stream",
     "text": [
      "Hello 1 Two Three 1 1 Three\n",
      "Hello One Two four One One four\n"
     ]
    }
   ],
   "source": [
    "a = \"Hello One Two Three One One Three\"\n",
    "# replace All ones to fives\n",
    "print(a.replace(\"One\",\"1\",a.count(\"One\")))\n",
    "# replace Three to four\n",
    "print(a.replace(\"Three\",\"four\"))"
   ]
  },
  {
   "cell_type": "markdown",
   "id": "6c648cd5",
   "metadata": {},
   "source": [
    "#### count All ones in String"
   ]
  },
  {
   "cell_type": "code",
   "execution_count": 8,
   "id": "3176d8ad",
   "metadata": {},
   "outputs": [
    {
     "name": "stdout",
     "output_type": "stream",
     "text": [
      "3\n"
     ]
    }
   ],
   "source": [
    "f=\"Hello One Two Three One One Three\"\n",
    "print(f.count(\"One\"))"
   ]
  },
  {
   "cell_type": "markdown",
   "id": "1197013c",
   "metadata": {},
   "source": [
    "#### split all the words of the sentence"
   ]
  },
  {
   "cell_type": "code",
   "execution_count": 9,
   "id": "14a73817",
   "metadata": {},
   "outputs": [
    {
     "name": "stdout",
     "output_type": "stream",
     "text": [
      "['Hello', 'One', 'Two', 'Three', 'One', 'One', 'Three']\n"
     ]
    }
   ],
   "source": [
    "f=\"Hello-One-Two-Three-One-One-Three\"\n",
    "print(f.split(\"-\"))"
   ]
  },
  {
   "cell_type": "markdown",
   "id": "8743f9a5",
   "metadata": {},
   "source": [
    "#### Split the sentence into three parts"
   ]
  },
  {
   "cell_type": "code",
   "execution_count": 10,
   "id": "e32a9ce2",
   "metadata": {},
   "outputs": [
    {
     "name": "stdout",
     "output_type": "stream",
     "text": [
      "['Hello', 'One', 'Two-Three-One-One-Three']\n"
     ]
    }
   ],
   "source": [
    "f=\"Hello-One-Two-Three-One-One-Three\"\n",
    "print(f.split(\"-\",2))"
   ]
  },
  {
   "cell_type": "markdown",
   "id": "b1bb036c",
   "metadata": {},
   "source": [
    "# Type Casting"
   ]
  },
  {
   "cell_type": "markdown",
   "id": "b998e555",
   "metadata": {},
   "source": [
    "#### Convert from float to integer"
   ]
  },
  {
   "cell_type": "code",
   "execution_count": 11,
   "id": "5ed34c94",
   "metadata": {},
   "outputs": [
    {
     "name": "stdout",
     "output_type": "stream",
     "text": [
      "14\n"
     ]
    }
   ],
   "source": [
    "X = 14.5\n",
    "print(int(X))"
   ]
  },
  {
   "cell_type": "markdown",
   "id": "3a66eed2",
   "metadata": {},
   "source": [
    "#### Convert from integer to String"
   ]
  },
  {
   "cell_type": "code",
   "execution_count": 12,
   "id": "865989b7",
   "metadata": {},
   "outputs": [
    {
     "name": "stdout",
     "output_type": "stream",
     "text": [
      "113\n"
     ]
    }
   ],
   "source": [
    "X = 113\n",
    "# code\n",
    "print(str(X))"
   ]
  },
  {
   "cell_type": "code",
   "execution_count": null,
   "id": "9bf5b1bb",
   "metadata": {},
   "outputs": [],
   "source": []
  }
 ],
 "metadata": {
  "kernelspec": {
   "display_name": "Python 3 (ipykernel)",
   "language": "python",
   "name": "python3"
  },
  "language_info": {
   "codemirror_mode": {
    "name": "ipython",
    "version": 3
   },
   "file_extension": ".py",
   "mimetype": "text/x-python",
   "name": "python",
   "nbconvert_exporter": "python",
   "pygments_lexer": "ipython3",
   "version": "3.9.13"
  }
 },
 "nbformat": 4,
 "nbformat_minor": 5
}
